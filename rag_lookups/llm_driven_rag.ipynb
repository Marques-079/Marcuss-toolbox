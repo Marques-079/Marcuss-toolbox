{
 "cells": [
  {
   "cell_type": "code",
   "execution_count": null,
   "id": "6281a721",
   "metadata": {},
   "outputs": [],
   "source": [
    "#Legit just FAISS but with a prompt and tooling around it LOL"
   ]
  },
  {
   "cell_type": "code",
   "execution_count": null,
   "id": "26e29cff",
   "metadata": {},
   "outputs": [],
   "source": []
  }
 ],
 "metadata": {
  "language_info": {
   "name": "python"
  }
 },
 "nbformat": 4,
 "nbformat_minor": 5
}
