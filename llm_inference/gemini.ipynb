{
 "cells": [
  {
   "cell_type": "code",
   "execution_count": null,
   "id": "5e4de1eb",
   "metadata": {},
   "outputs": [],
   "source": [
    "\"\"\"\n",
    "DOCS on models : https://ai.google.dev/gemini-api/docs\n",
    "\"\"\""
   ]
  },
  {
   "cell_type": "code",
   "execution_count": 3,
   "id": "046d6b26",
   "metadata": {},
   "outputs": [
    {
     "name": "stderr",
     "output_type": "stream",
     "text": [
      "E0000 00:00:1759551300.665856 13768711 alts_credentials.cc:93] ALTS creds ignored. Not running on GCP and untrusted ALTS is not enabled.\n"
     ]
    },
    {
     "name": "stdout",
     "output_type": "stream",
     "text": [
      "The number 67 has a few interesting properties that make it special in different contexts:\n",
      "\n",
      "**In Mathematics:**\n",
      "\n",
      "* **Prime Number:** 67 is a prime number. This means it's only divisible by 1 and itself. It's the 19th prime number. This is its most fundamental mathematical property.\n",
      "* **Twin Prime:** 67 is part of a twin prime pair, specifically (61, 67) and (67, 71). Twin primes are pairs of prime numbers that differ by 2.\n",
      "* **Isolated Prime:** 67 is an isolated prime. This means it's a prime number where neither of the numbers immediately before or after it (66 and 68) is prime.\n",
      "\n",
      "**In Other Fields:**\n",
      "\n",
      "* **Atomic Number:** 67 is the atomic number of **Holmium (Ho)**. Holmium is a rare earth element with some unique magnetic properties.\n",
      "* **Year:** The year **67 AD** and **1967** are significant historical years.\n",
      "    * **67 AD:** This year saw significant events during the Roman Empire, including the completion of the Colosseum's initial construction phases and the ongoing First Jewish-Roman War.\n",
      "    * **1967:** This year was a landmark in the **\"Summer of Love,\"** a period of cultural revolution and counterculture in the United States and around the world. It also saw the Six-Day War in the Middle East.\n",
      "* **Pop Culture/Sports:**\n",
      "    * **Number 67:** In sports, particularly baseball, the number 67 isn't as commonly retired or associated with legendary players as some other numbers. However, some notable players have worn it, like **Dustin Pedroia** (Boston Red Sox) or **Scott Rolen** (various teams).\n",
      "    * **Other Associations:** While not universally recognized, some people might have personal connections or find it significant due to birthdays, anniversaries, or other life events.\n",
      "\n",
      "**In summary, what's \"special\" about 67 depends on the context:**\n",
      "\n",
      "* **Mathematically, its primality and its role in twin and isolated prime pairs are its key features.**\n",
      "* **Scientifically, its atomic number for Holmium is its significance.**\n",
      "* **Historically, the years 67 AD and 1967 hold important events.**\n",
      "\n",
      "Is there any particular area you're interested in where 67 might be special? Knowing that might help me provide a more specific answer!\n"
     ]
    }
   ],
   "source": [
    "import os\n",
    "from dotenv import load_dotenv\n",
    "import google.generativeai as genai\n",
    "\n",
    "\n",
    "load_dotenv()\n",
    "api_key = os.getenv(\"GEMINI_API_KEY\")\n",
    "genai.configure(api_key=api_key)\n",
    "\n",
    "# Select a model\n",
    "model = genai.GenerativeModel(\"gemini-2.5-flash-lite\")\n",
    "\n",
    "# Testcall \n",
    "response = model.generate_content(\"What is special about 67\")\n",
    "print(response.text)\n"
   ]
  },
  {
   "cell_type": "code",
   "execution_count": null,
   "id": "0e79e677",
   "metadata": {},
   "outputs": [],
   "source": []
  }
 ],
 "metadata": {
  "kernelspec": {
   "display_name": ".venv (3.13.7)",
   "language": "python",
   "name": "python3"
  },
  "language_info": {
   "codemirror_mode": {
    "name": "ipython",
    "version": 3
   },
   "file_extension": ".py",
   "mimetype": "text/x-python",
   "name": "python",
   "nbconvert_exporter": "python",
   "pygments_lexer": "ipython3",
   "version": "3.13.7"
  }
 },
 "nbformat": 4,
 "nbformat_minor": 5
}
