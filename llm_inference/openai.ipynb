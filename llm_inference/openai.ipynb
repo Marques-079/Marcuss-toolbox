{
 "cells": [
  {
   "cell_type": "code",
   "execution_count": null,
   "id": "09662acc",
   "metadata": {},
   "outputs": [],
   "source": [
    "#Example code for OpenAI LLM calling"
   ]
  },
  {
   "cell_type": "code",
   "execution_count": null,
   "id": "9694aec3",
   "metadata": {},
   "outputs": [
    {
     "name": "stdout",
     "output_type": "stream",
     "text": [
      "Hi there!\n"
     ]
    }
   ],
   "source": [
    "from dotenv import load_dotenv\n",
    "from openai import OpenAI\n",
    "\n",
    "load_dotenv()             \n",
    "client = OpenAI()        \n",
    "\n",
    "resp = client.chat.completions.create(\n",
    "    model=\"gpt-4o-mini\",\n",
    "    messages=[\n",
    "        {\"role\": \"system\", \"content\": \"You are concise.\"},\n",
    "        {\"role\": \"user\", \"content\": \"Say hi in one sentence.\"},\n",
    "    ],\n",
    ")\n",
    "print(resp.choices[0].message.content)\n"
   ]
  },
  {
   "cell_type": "code",
   "execution_count": null,
   "id": "ed278b5e",
   "metadata": {},
   "outputs": [
    {
     "name": "stdout",
     "output_type": "stream",
     "text": [
      "The current temperature in Auckland is 17.2°C.\n"
     ]
    }
   ],
   "source": [
    "import json\n",
    "from openai import OpenAI\n",
    "client = OpenAI()\n",
    "\n",
    "#Define the tool (function schema)\n",
    "tools = [{\n",
    "    \"type\": \"function\",\n",
    "    \"function\": {\n",
    "        \"name\": \"get_weather\",\n",
    "        \"description\": \"Get current temp in a city\",\n",
    "        \"parameters\": {\n",
    "            \"type\":\"object\",\n",
    "            \"properties\":{\"city\":{\"type\":\"string\"}},\n",
    "            \"required\":[\"city\"]\n",
    "        }\n",
    "    }\n",
    "}]\n",
    "\n",
    "#REPLACE WITH REAL FUNCTION HERE FOR TOOLING\n",
    "def get_weather(city: str):\n",
    "    return {\"city\": city, \"tempC\": 6767676767676767676767}\n",
    "\n",
    "messages = [{\"role\":\"user\",\"content\":\"What's the temp in Auckland?\"}]\n",
    "resp = client.chat.completions.create(\n",
    "    model=\"gpt-4o-mini\",\n",
    "    messages=messages,\n",
    "    tools=tools,\n",
    "    tool_choice=\"auto\",\n",
    ")\n",
    "\n",
    "msg = resp.choices[0].message\n",
    "tool_calls = msg.tool_calls or []\n",
    "\n",
    "if tool_calls:\n",
    "    messages.append({\n",
    "        \"role\": \"assistant\",\n",
    "        \"tool_calls\": [\n",
    "            {\n",
    "                \"id\": tool_calls[0].id,\n",
    "                \"type\": \"function\",\n",
    "                \"function\": {\n",
    "                    \"name\": tool_calls[0].function.name,\n",
    "                    \"arguments\": tool_calls[0].function.arguments\n",
    "                }\n",
    "            }\n",
    "        ]\n",
    "    })\n",
    "\n",
    "    args = json.loads(tool_calls[0].function.arguments)\n",
    "    result = get_weather(**args)\n",
    "\n",
    "    messages.append({\n",
    "        \"role\": \"tool\",\n",
    "        \"tool_call_id\": tool_calls[0].id,\n",
    "        \"content\": json.dumps(result)\n",
    "    })\n",
    "\n",
    "    final = client.chat.completions.create(\n",
    "        model=\"gpt-4o-mini\",\n",
    "        messages=messages\n",
    "    )\n",
    "    print(final.choices[0].message.content)\n",
    "else:\n",
    "    print(msg.content)\n"
   ]
  },
  {
   "cell_type": "code",
   "execution_count": null,
   "id": "9419d07d",
   "metadata": {},
   "outputs": [],
   "source": []
  }
 ],
 "metadata": {
  "kernelspec": {
   "display_name": ".venv (3.13.7)",
   "language": "python",
   "name": "python3"
  },
  "language_info": {
   "codemirror_mode": {
    "name": "ipython",
    "version": 3
   },
   "file_extension": ".py",
   "mimetype": "text/x-python",
   "name": "python",
   "nbconvert_exporter": "python",
   "pygments_lexer": "ipython3",
   "version": "3.13.7"
  }
 },
 "nbformat": 4,
 "nbformat_minor": 5
}
