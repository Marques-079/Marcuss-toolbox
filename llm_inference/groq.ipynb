{
 "cells": [
  {
   "cell_type": "code",
   "execution_count": null,
   "id": "64c586d0",
   "metadata": {},
   "outputs": [],
   "source": [
    "\"\"\"\n",
    "Faster inference with Groq\n",
    "DOCS : https://console.groq.com/docs/overview\n",
    "\"\"\""
   ]
  },
  {
   "cell_type": "code",
   "execution_count": 3,
   "id": "98d50b80",
   "metadata": {},
   "outputs": [
    {
     "name": "stdout",
     "output_type": "stream",
     "text": [
      "**Why 67 matters – a quick tour through math, science, history and culture**\n",
      "\n",
      "| Area | What 67 looks like | Why it stands out |\n",
      "|------|-------------------|-------------------|\n",
      "| **Number theory** | 67 = prime | The 19th prime (2, 3, 5, 7, 11, 13, 17, 19, 23, 29, 31, 37, 41, 43, 47, 53, 59, 61, **67**).  It is a “regular” prime (≡ 3 (mod 4)) and also a “Sophie‑Germain” prime because 2×67 + 1 = 135 (actually not prime – so it’s *not* SG – but the point is that it’s often used as a teaching example of a small prime).  It is the 11th *non‑triangular* number (the 10th triangular number is 55, the 11th is 66, 67 is just one more). |\n",
      "| **Algebra** | 67 = 2⁶ + 3 | A simple expression that shows it’s just beyond the perfect power 2⁶ (64). |\n",
      "| **Cryptography** | 67 used in toy RSA examples | RSA teaching often picks small primes like 61 and 67 to illustrate key generation and modular exponentiation.  The modulus 61 × 67 = 4087 is a small “safe” field for demos. |\n",
      "| **Geometry** | 67 is the 11th *centered* *hexagonal* number? | Actually 67 is *not* a centered hexagonal number (those go 1, 7, 19, 37, 61, 91…).  But it is one more than the 10th hexagonal number (10th hexagonal = 66), so it’s often cited when discussing “hexagonal numbers plus one” phenomena. |\n",
      "| **Chemistry** | Element 67: Holmium | Holmium (Ho) is a lanthanide (rare earth) with atomic number 67.  It has a high magnetic moment (7 μB), making it useful in permanent magnets and in magnetic resonance imaging (MRI) contrast agents.  It’s also the element with the largest magnetic moment among the lanthanides. |\n",
      "| **Physics** | Holmium’s 67 MHz resonance line | The nuclear spin of 165Ho gives a very narrow magnetic resonance line at 67 MHz, useful for precision spectroscopy. |\n",
      "| **History (Year 1967)** | 1967 was a “turn‑of‑the‑century” year | • **Six-Day War** – a pivotal conflict in Middle Eastern history.  <br>• **Apollo 1 fire** – tragedy that reshaped NASA’s safety protocols.  <br>• **The first “world wide web”?** (No, that was 1990s – but 1967 saw the first *digital* communication protocols.)  <br>• **The first “anti‑war” protest in Vietnam** – 1967 marked a surge in U.S. protest culture.  <br>• **The launch of the first *spacecraft* that would later become Voyager 1** (though launched 1977). |\n",
      "| **Culture** | 67 as a “lucky” number in some cultures | In Chinese numerology, 6 (good) + 7 (lucky) = 13 → 1+3 = 4 (stability).  In Western pop culture, the **“67” jersey** is iconic: Wayne Gretzky (hockey) wore 99, not 67; but **LeBron James** wore 23, 6, 7…  67 is often used as a “random” number in jokes (“Why is 67 so special? Because it’s the answer to life, the universe, and everything… or is that 42?”). |\n",
      "| **Sports** | 67 as a score or record | The record for *fastest* 100‑m sprint in a heat was 9.67 s (Usain Bolt, 2008).  In baseball, a pitcher with a 6.7 ERA is considered *excellent* (rounded to 6.7).  |\n",
      "| **Literature** | 67 = page where a crucial twist happens | Many books have a “turning point” at page 67 (e.g., “The Catcher in the Rye” has a key scene near that page).  It’s often used as a random reference point in writing exercises (“Write a paragraph starting on page 67”). |\n",
      "| **Technology** | 67 bytes = a tiny packet | In network protocols, the smallest IPv4 header is 20 bytes, but certain minimalistic IoT devices send payloads of 67 bytes.  |\n",
      "| **Geography** | 67 ° N = the Arctic Circle? | The Arctic Circle is at 66.5° N, so 67° N is just north of it— a zone where the sun never sets in summer.  |\n",
      "| **Astronomy** | 67 pc = distance to the Pleiades? | The Pleiades are ~132 ly (≈40 pc).  However, the *Hyades* cluster is at ~65 ly (~20 pc).  67 pc is the distance to the *M67* open cluster (the famous “M‑cluster” at ~800 ly).  |\n",
      "| **Miscellaneous** | 67 % = a common *discount* | Retail often uses 67% off to attract customers; 67% is a large reduction but still leaves a substantial price.  |\n",
      "\n",
      "---\n",
      "\n",
      "### Quick Takeaway\n",
      "\n",
      "- **Prime number**: 67 is a clean, “small” prime—great for teaching basic number theory and cryptographic fundamentals.  \n",
      "- **Element 67 (Holmium)**: A rare earth metal with outstanding magnetic properties, pivotal in modern technology (magnets, MRI).  \n",
      "- **Historical marker**: 1967 (the “67” year) was a watershed in world politics, science, and culture.  \n",
      "- **Cultural touchstones**: From sports jerseys to numerology, 67 pops up wherever people need a memorable, odd, one‑digit‑plus‑digit number.  \n",
      "\n",
      "Whether you’re a mathematician, a chemist, a history buff, or just someone who enjoys a good number trivia fact, 67 has something to offer.\n"
     ]
    }
   ],
   "source": [
    "from openai import OpenAI\n",
    "from dotenv import load_dotenv\n",
    "import os\n",
    "\n",
    "load_dotenv()\n",
    "\n",
    "groq_key = os.getenv(\"GROQ_API_KEY\")\n",
    "\n",
    "\n",
    "client = OpenAI(\n",
    "    api_key=groq_key,\n",
    "    base_url=\"https://api.groq.com/openai/v1\",\n",
    ")\n",
    "\n",
    "# Make a request\n",
    "response = client.responses.create(\n",
    "    input=\"Explain the importance of 67\",\n",
    "    model=\"openai/gpt-oss-20b\",\n",
    ")\n",
    "\n",
    "print(response.output_text)\n"
   ]
  },
  {
   "cell_type": "code",
   "execution_count": null,
   "id": "720301c2",
   "metadata": {},
   "outputs": [],
   "source": []
  }
 ],
 "metadata": {
  "kernelspec": {
   "display_name": ".venv (3.13.7)",
   "language": "python",
   "name": "python3"
  },
  "language_info": {
   "codemirror_mode": {
    "name": "ipython",
    "version": 3
   },
   "file_extension": ".py",
   "mimetype": "text/x-python",
   "name": "python",
   "nbconvert_exporter": "python",
   "pygments_lexer": "ipython3",
   "version": "3.13.7"
  }
 },
 "nbformat": 4,
 "nbformat_minor": 5
}
