{
 "cells": [
  {
   "cell_type": "code",
   "execution_count": 4,
   "id": "98179bc9",
   "metadata": {},
   "outputs": [
    {
     "name": "stdout",
     "output_type": "stream",
     "text": [
      "Detected language: en  (p=1.00)\n",
      "[0.00 → 2.20]  Testing 1, 2, 3.\n",
      "[2.20 → 5.12]  This is a test of the Kokoro Text-to-Speech Synthesis System.\n",
      "\n",
      "Full text:\n",
      " \n"
     ]
    }
   ],
   "source": [
    "from faster_whisper import WhisperModel\n",
    "\n",
    "# device=\"auto\" picks GPU if available; otherwise CPU.\n",
    "# CPU tip: int8_float16 is fast and accurate. GPU tip: float16.\n",
    "model = WhisperModel(\"small.en\", device=\"cpu\", compute_type=\"int8\")\n",
    "\n",
    "segments, info = model.transcribe(\n",
    "    \"kokoro_out.wav\",\n",
    "    beam_size=5,          # good quality/speed tradeoff\n",
    "    vad_filter=True       # skip long silences\n",
    ")\n",
    "\n",
    "print(f\"Detected language: {info.language}  (p={info.language_probability:.2f})\")\n",
    "for s in segments:\n",
    "    print(f\"[{s.start:.2f} → {s.end:.2f}] {s.text}\")\n",
    "# Or a single string:\n",
    "text = \" \".join(s.text for s in segments)\n",
    "print(\"\\nFull text:\\n\", text)\n"
   ]
  },
  {
   "cell_type": "code",
   "execution_count": null,
   "id": "04895d91",
   "metadata": {},
   "outputs": [],
   "source": []
  }
 ],
 "metadata": {
  "kernelspec": {
   "display_name": ".venv (3.13.7)",
   "language": "python",
   "name": "python3"
  },
  "language_info": {
   "codemirror_mode": {
    "name": "ipython",
    "version": 3
   },
   "file_extension": ".py",
   "mimetype": "text/x-python",
   "name": "python",
   "nbconvert_exporter": "python",
   "pygments_lexer": "ipython3",
   "version": "3.13.7"
  }
 },
 "nbformat": 4,
 "nbformat_minor": 5
}
